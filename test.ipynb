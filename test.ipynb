{
 "cells": [
  {
   "cell_type": "code",
   "execution_count": 1,
   "metadata": {},
   "outputs": [],
   "source": [
    "import yfinance as yf"
   ]
  },
  {
   "cell_type": "code",
   "execution_count": 7,
   "metadata": {},
   "outputs": [],
   "source": [
    "ticker = \"^GSPC\"\n",
    "data = yf.Ticker(ticker)"
   ]
  },
  {
   "cell_type": "code",
   "execution_count": 8,
   "metadata": {},
   "outputs": [
    {
     "data": {
      "text/plain": [
       "dict_keys(['maxAge', 'priceHint', 'previousClose', 'open', 'dayLow', 'dayHigh', 'regularMarketPreviousClose', 'regularMarketOpen', 'regularMarketDayLow', 'regularMarketDayHigh', 'volume', 'regularMarketVolume', 'averageVolume', 'averageVolume10days', 'averageDailyVolume10Day', 'bid', 'ask', 'fiftyTwoWeekLow', 'fiftyTwoWeekHigh', 'fiftyDayAverage', 'twoHundredDayAverage', 'currency', 'exchange', 'quoteType', 'symbol', 'underlyingSymbol', 'shortName', 'longName', 'firstTradeDateEpochUtc', 'timeZoneFullName', 'timeZoneShortName', 'uuid', 'messageBoardId', 'gmtOffSetMilliseconds', 'trailingPegRatio'])"
      ]
     },
     "execution_count": 8,
     "metadata": {},
     "output_type": "execute_result"
    }
   ],
   "source": [
    "data.info.keys()"
   ]
  },
  {
   "cell_type": "code",
   "execution_count": 9,
   "metadata": {},
   "outputs": [],
   "source": [
    "selected_keys = [\n",
    "    # 회사 정보\n",
    "    'longName', 'shortName', 'industry', 'sector', 'longBusinessSummary', 'fullTimeEmployees', \n",
    "    'website', 'address1', 'city', 'state', 'country',\n",
    "\n",
    "    # 주식 가격 및 관련 데이터\n",
    "    'currentPrice', 'previousClose', 'regularMarketOpen', 'regularMarketDayHigh', \n",
    "    'regularMarketDayLow', 'fiftyTwoWeekHigh', 'fiftyTwoWeekLow', 'beta', \n",
    "    'trailingPE', 'forwardPE', 'priceToBook', \n",
    "    'targetHighPrice', 'targetLowPrice', 'targetMeanPrice', 'targetMedianPrice',\n",
    "\n",
    "    # 재무 정보\n",
    "    'marketCap', 'totalRevenue', 'revenuePerShare', 'ebitda', 'operatingCashflow', \n",
    "    'freeCashflow', 'totalDebt', 'debtToEquity', \n",
    "    'returnOnAssets', 'returnOnEquity', 'profitMargins',\n",
    "\n",
    "    # 배당 정보\n",
    "    'dividendRate', 'dividendYield', 'exDividendDate', \n",
    "    'lastDividendValue', 'lastDividendDate',\n",
    "\n",
    "    # 성장 및 분석\n",
    "    'earningsGrowth', 'revenueGrowth', 'trailingEps', 'forwardEps', 'earningsQuarterlyGrowth', \n",
    "    '52WeekChange',\n",
    "\n",
    "    # 기타\n",
    "    'financialCurrency'\n",
    "]\n"
   ]
  },
  {
   "cell_type": "code",
   "execution_count": 13,
   "metadata": {},
   "outputs": [
    {
     "name": "stdout",
     "output_type": "stream",
     "text": [
      "longName Apple Inc.\n",
      "shortName Apple Inc.\n",
      "industry Consumer Electronics\n",
      "sector Technology\n",
      "longBusinessSummary Apple Inc. designs, manufactures, and markets smartphones, personal computers, tablets, wearables, and accessories worldwide. The company offers iPhone, a line of smartphones; Mac, a line of personal computers; iPad, a line of multi-purpose tablets; and wearables, home, and accessories comprising AirPods, Apple TV, Apple Watch, Beats products, and HomePod. It also provides AppleCare support and cloud services; and operates various platforms, including the App Store that allow customers to discover and download applications and digital content, such as books, music, video, games, and podcasts, as well as advertising services include third-party licensing arrangements and its own advertising platforms. In addition, the company offers various subscription-based services, such as Apple Arcade, a game subscription service; Apple Fitness+, a personalized fitness service; Apple Music, which offers users a curated listening experience with on-demand radio stations; Apple News+, a subscription news and magazine service; Apple TV+, which offers exclusive original content; Apple Card, a co-branded credit card; and Apple Pay, a cashless payment service, as well as licenses its intellectual property. The company serves consumers, and small and mid-sized businesses; and the education, enterprise, and government markets. It distributes third-party applications for its products through the App Store. The company also sells its products through its retail and online stores, and direct sales force; and third-party cellular network carriers, wholesalers, retailers, and resellers. Apple Inc. was founded in 1976 and is headquartered in Cupertino, California.\n",
      "fullTimeEmployees 164000\n",
      "website https://www.apple.com\n",
      "address1 One Apple Park Way\n",
      "city Cupertino\n",
      "state CA\n",
      "country United States\n",
      "currentPrice 229.87\n",
      "previousClose 228.52\n",
      "regularMarketOpen 228.06\n",
      "regularMarketDayHigh 230.7199\n",
      "regularMarketDayLow 228.06\n",
      "fiftyTwoWeekHigh 237.49\n",
      "fiftyTwoWeekLow 164.08\n",
      "beta 1.24\n",
      "trailingPE 37.86985\n",
      "forwardPE 27.665546\n",
      "priceToBook 61.022034\n",
      "targetHighPrice 300.0\n",
      "targetLowPrice 184.0\n",
      "targetMeanPrice 244.47739\n",
      "targetMedianPrice 250.0\n",
      "marketCap 3474668650496\n",
      "totalRevenue 391034994688\n",
      "revenuePerShare 25.485\n",
      "ebitda 134660997120\n",
      "operatingCashflow 118254002176\n",
      "freeCashflow 110846001152\n",
      "totalDebt 119058997248\n",
      "debtToEquity 209.059\n",
      "returnOnAssets 0.21464\n",
      "returnOnEquity 1.5741299\n",
      "profitMargins 0.23971\n",
      "dividendRate 1.0\n",
      "dividendYield 0.0044\n",
      "exDividendDate 1731024000\n",
      "lastDividendValue 0.25\n",
      "lastDividendDate 1731024000\n",
      "earningsGrowth -0.341\n",
      "revenueGrowth 0.061\n",
      "trailingEps 6.07\n",
      "forwardEps 8.31\n",
      "earningsQuarterlyGrowth -0.358\n",
      "52WeekChange 0.2111808\n",
      "financialCurrency USD\n"
     ]
    }
   ],
   "source": [
    "for key in selected_keys:\n",
    "    print(key, data.info[key])"
   ]
  },
  {
   "cell_type": "code",
   "execution_count": 5,
   "metadata": {},
   "outputs": [
    {
     "data": {
      "text/plain": [
       "300.0"
      ]
     },
     "execution_count": 5,
     "metadata": {},
     "output_type": "execute_result"
    }
   ],
   "source": [
    "data.info['targetHighPrice']"
   ]
  },
  {
   "cell_type": "code",
   "execution_count": 6,
   "metadata": {},
   "outputs": [
    {
     "data": {
      "text/plain": [
       "184.0"
      ]
     },
     "execution_count": 6,
     "metadata": {},
     "output_type": "execute_result"
    }
   ],
   "source": [
    "data.info['targetLowPrice']"
   ]
  },
  {
   "cell_type": "code",
   "execution_count": null,
   "metadata": {},
   "outputs": [],
   "source": []
  }
 ],
 "metadata": {
  "kernelspec": {
   "display_name": "stockdev",
   "language": "python",
   "name": "python3"
  },
  "language_info": {
   "codemirror_mode": {
    "name": "ipython",
    "version": 3
   },
   "file_extension": ".py",
   "mimetype": "text/x-python",
   "name": "python",
   "nbconvert_exporter": "python",
   "pygments_lexer": "ipython3",
   "version": "3.10.14"
  }
 },
 "nbformat": 4,
 "nbformat_minor": 2
}
